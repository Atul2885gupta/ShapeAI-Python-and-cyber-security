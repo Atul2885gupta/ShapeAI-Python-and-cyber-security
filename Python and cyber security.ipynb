{
 "cells": [
  {
   "cell_type": "code",
   "execution_count": 3,
   "metadata": {},
   "outputs": [
    {
     "name": "stdout",
     "output_type": "stream",
     "text": [
      "Enter the city name: Varanasi\n",
      "{\"coord\":{\"lon\":83,\"lat\":25.3333},\"weather\":[{\"id\":701,\"main\":\"Mist\",\"description\":\"mist\",\"icon\":\"50n\"},{\"id\":501,\"main\":\"Rain\",\"description\":\"moderate rain\",\"icon\":\"10n\"}],\"base\":\"stations\",\"main\":{\"temp\":301.2,\"feels_like\":306.88,\"temp_min\":301.2,\"temp_max\":301.2,\"pressure\":1000,\"humidity\":89},\"visibility\":2500,\"wind\":{\"speed\":1.03,\"deg\":0},\"rain\":{\"1h\":3.35},\"clouds\":{\"all\":75},\"dt\":1624460236,\"sys\":{\"type\":1,\"id\":9138,\"country\":\"IN\",\"sunrise\":1624405121,\"sunset\":1624454495},\"timezone\":19800,\"id\":1253405,\"name\":\"Varanasi\",\"cod\":200}\n",
      "-------------------------------------------------------------\n",
      "Weather Stats for - VARANASI  || 23 Jun 2021 | 08:29:18 PM\n",
      "-------------------------------------------------------------\n",
      "Current temperature is: 28.05 deg C\n",
      "Current weather desc  : mist\n",
      "Current Humidity      : 89 %\n",
      "Current wind speed    : 1.03 kmph\n"
     ]
    }
   ],
   "source": [
    "import requests\n",
    "import os\n",
    "from datetime import datetime\n",
    "api_key = '770d6c8da7f5df4c7fe3973583c91452'\n",
    "location = input(\"Enter the city name: \")\n",
    "\n",
    "complete_api_link = \"https://api.openweathermap.org/data/2.5/weather?q=\"+location+\"&appid=\"+api_key\n",
    "api_link = requests.get(complete_api_link)\n",
    "print(api_link.text)\n",
    "api_data = api_link.json()\n",
    "\n",
    "#create variables to store and display data\n",
    "temp_city = ((api_data['main']['temp']) - 273.15)\n",
    "weather_desc = api_data['weather'][0]['description']\n",
    "hmdt = api_data['main']['humidity']\n",
    "wind_spd = api_data['wind']['speed']\n",
    "date_time = datetime.now().strftime(\"%d %b %Y | %I:%M:%S %p\")\n",
    "\n",
    "print (\"-------------------------------------------------------------\")\n",
    "print (\"Weather Stats for - {}  || {}\".format(location.upper(), date_time))\n",
    "print (\"-------------------------------------------------------------\")\n",
    "\n",
    "print (\"Current temperature is: {:.2f} deg C\".format(temp_city))\n",
    "print (\"Current weather desc  :\",weather_desc)\n",
    "print (\"Current Humidity      :\",hmdt, '%')\n",
    "print (\"Current wind speed    :\",wind_spd ,'kmph')"
   ]
  },
  {
   "cell_type": "markdown",
   "metadata": {},
   "source": [
    "Output in a file"
   ]
  },
  {
   "cell_type": "code",
   "execution_count": 4,
   "metadata": {},
   "outputs": [],
   "source": [
    "l1=\"-------------------------------------------------------------\\n\"\n",
    "l2=\"Weather Stats for - {}  || {}\\n\".format(location.upper(), date_time)\n",
    "l3=\"Current temperature is:{:.2f} deg C\\n\".format(temp_city)\n",
    "l4=\"Current weather desc  :{}\\n\".format(weather_desc)\n",
    "l5=\"Current Humidity      :{} %\\n\".format(hmdt)\n",
    "l6=\"Current wind speed    :{} kmph\\n\".format(wind_spd)\n",
    "Lines=[l1,l2,l1,l3,l4,l5,l6]\n",
    "f = open(\"WeatherData.txt\", \"w\")\n",
    "f.writelines(Lines)\n",
    "f.close()"
   ]
  },
  {
   "cell_type": "code",
   "execution_count": null,
   "metadata": {},
   "outputs": [],
   "source": []
  }
 ],
 "metadata": {
  "kernelspec": {
   "display_name": "Python 3",
   "language": "python",
   "name": "python3"
  },
  "language_info": {
   "codemirror_mode": {
    "name": "ipython",
    "version": 3
   },
   "file_extension": ".py",
   "mimetype": "text/x-python",
   "name": "python",
   "nbconvert_exporter": "python",
   "pygments_lexer": "ipython3",
   "version": "3.8.3"
  }
 },
 "nbformat": 4,
 "nbformat_minor": 4
}
